{
 "cells": [
  {
   "cell_type": "code",
   "execution_count": 9,
   "metadata": {},
   "outputs": [],
   "source": [
    "import torch\n",
    "import torch.nn as nn\n",
    "import pandas as pd\n",
    "import numpy as np\n",
    "import matplotlib.pyplot as plt\n",
    "from sklearn.preprocessing import StandardScaler"
   ]
  },
  {
   "cell_type": "code",
   "execution_count": 10,
   "metadata": {},
   "outputs": [],
   "source": [
    "df = pd.read_csv('https://raw.githubusercontent.com/lazyprogrammer/machine_learning_examples/master/tf2.0/sbux.csv')"
   ]
  },
  {
   "cell_type": "code",
   "execution_count": 11,
   "metadata": {},
   "outputs": [],
   "source": [
    "df[\"PrevClose\"] = df[\"close\"].shift(1)\n",
    "df[\"Return\"] = (df[\"close\"] - df[\"PrevClose\"]) / df[\"PrevClose\"]"
   ]
  },
  {
   "cell_type": "code",
   "execution_count": 12,
   "metadata": {},
   "outputs": [],
   "source": [
    "input_data = df[['open', 'high', 'low', 'close', 'volume']].values\n",
    "targets = df['Return'].values"
   ]
  },
  {
   "cell_type": "code",
   "execution_count": 13,
   "metadata": {},
   "outputs": [],
   "source": [
    "T = 10\n",
    "D = input_data.shape[1]\n",
    "N = len(input_data) - T"
   ]
  },
  {
   "cell_type": "code",
   "execution_count": 14,
   "metadata": {},
   "outputs": [],
   "source": [
    "Ntrain = len(input_data) * 2 // 3\n",
    "scaler = StandardScaler()\n",
    "scaler.fit(input_data[:Ntrain + T - 1])\n",
    "input_data = scaler.transform(input_data)"
   ]
  },
  {
   "cell_type": "code",
   "execution_count": 15,
   "metadata": {},
   "outputs": [],
   "source": [
    "x_train = np.zeros((Ntrain, T, D))\n",
    "y_train = np.zeros((Ntrain, 1))\n",
    "\n",
    "for t in range(Ntrain):\n",
    "    x_train[t, :, :] = input_data[t:t+T]\n",
    "    y_train[t] = (targets[t+T] > 0)\n",
    "    "
   ]
  },
  {
   "cell_type": "code",
   "execution_count": 16,
   "metadata": {},
   "outputs": [],
   "source": [
    "x_test = np.zeros((N - Ntrain, T, D))\n",
    "y_test = np.zeros((N - Ntrain, 1))\n",
    "\n",
    "for u in range(N - Ntrain):\n",
    "    t = u + Ntrain\n",
    "    x_test[u, :, :] = input_data[t:t+T]\n",
    "    y_test[u] = (targets[t+T] > 0)"
   ]
  },
  {
   "cell_type": "code",
   "execution_count": 17,
   "metadata": {},
   "outputs": [
    {
     "name": "stdout",
     "output_type": "stream",
     "text": [
      "cpu\n"
     ]
    }
   ],
   "source": [
    "device = torch.device(\"cuda:0\" if torch.cuda.is_available() else \"cpu\")\n",
    "print(device)"
   ]
  },
  {
   "cell_type": "code",
   "execution_count": 18,
   "metadata": {},
   "outputs": [],
   "source": [
    "class SimpleRNN(nn.Module):\n",
    "    def __init__(self, n_inputs, n_hidden, n_rnnlayers, n_outputs):\n",
    "        super(SimpleRNN, self).__init__()\n",
    "        self.D = n_inputs\n",
    "        self.M = n_hidden\n",
    "        self.K = n_outputs\n",
    "        self.L = n_rnnlayers\n",
    "        \n",
    "        self.rnn = nn.LSTM(\n",
    "            input_size=self.D,\n",
    "            hidden_size=self.M,\n",
    "            num_layers=self.L,\n",
    "            # nonlinearity='relu',\n",
    "            batch_first=True\n",
    "        )\n",
    "        self.fc = nn.Linear(self.M, self.K)\n",
    "        \n",
    "    def forward(self, X):\n",
    "        # initial hidden states\n",
    "        h0 = torch.zeros(self.L, X.size(0), self.M).to(device)\n",
    "        c0 = torch.zeros(self.L, X.size(0), self.M).to(device)\n",
    "\n",
    "        # get RNN unit output\n",
    "        # out is of size (N, T, M)\n",
    "        out, _ = self.rnn(X, (h0, c0))\n",
    "        out = self.fc(out[:, -1, :])\n",
    "        return out"
   ]
  },
  {
   "cell_type": "code",
   "execution_count": 19,
   "metadata": {},
   "outputs": [
    {
     "data": {
      "text/plain": [
       "SimpleRNN(\n",
       "  (rnn): LSTM(5, 50, num_layers=2, batch_first=True)\n",
       "  (fc): Linear(in_features=50, out_features=1, bias=True)\n",
       ")"
      ]
     },
     "execution_count": 19,
     "metadata": {},
     "output_type": "execute_result"
    }
   ],
   "source": [
    "model = SimpleRNN(n_inputs=5, n_hidden=50, n_rnnlayers=2, n_outputs=1)\n",
    "model.to(device)"
   ]
  },
  {
   "cell_type": "code",
   "execution_count": 20,
   "metadata": {},
   "outputs": [],
   "source": [
    "criteria = nn.BCEWithLogitsLoss()\n",
    "optimizer = torch.optim.Adam(model.parameters(), lr=0.01)"
   ]
  },
  {
   "cell_type": "code",
   "execution_count": 21,
   "metadata": {},
   "outputs": [],
   "source": [
    "def full_gd(model, criterion, optimizer, X_train, y_train, X_test, y_test, epochs=200):\n",
    "    train_losses = np.zeros(epochs)\n",
    "    test_losses = np.zeros(epochs)\n",
    "    \n",
    "    for it in range(epochs):\n",
    "        optimizer.zero_grad()\n",
    "        \n",
    "        outputs = model(X_train)\n",
    "        loss = criterion(outputs, y_train)\n",
    "        \n",
    "        loss.backward()\n",
    "        optimizer.step()\n",
    "        \n",
    "        train_losses[it] = loss.item()\n",
    "        \n",
    "        test_outputs = model(X_test)\n",
    "        test_loss = criterion(test_outputs, y_test)\n",
    "        test_losses[it] = test_loss.item()\n",
    "        \n",
    "        if (it + 1) % 5 == 0:\n",
    "            print(f'Epoch {it + 1}/{epochs}, Train Loss: {loss.item():.4f}, Test Loss: {test_loss.item():.4f}')\n",
    "    \n",
    "    return train_losses, test_losses"
   ]
  },
  {
   "cell_type": "code",
   "execution_count": 23,
   "metadata": {},
   "outputs": [],
   "source": [
    "x_train = torch.from_numpy(x_train[:-N//2].astype(np.float32)).to(device)\n",
    "y_train = torch.from_numpy(y_train[:-N//2].astype(np.float32)).to(device)\n",
    "x_test = torch.from_numpy(x_test[-N//2:].astype(np.float32)).to(device)\n",
    "y_test = torch.from_numpy(y_test[-N//2:].astype(np.float32)).to(device)"
   ]
  },
  {
   "cell_type": "code",
   "execution_count": 24,
   "metadata": {},
   "outputs": [
    {
     "name": "stdout",
     "output_type": "stream",
     "text": [
      "Epoch 5/200, Train Loss: 0.6899, Test Loss: 0.6967\n",
      "Epoch 10/200, Train Loss: 0.6861, Test Loss: 0.7259\n",
      "Epoch 15/200, Train Loss: 0.6839, Test Loss: 0.7156\n",
      "Epoch 20/200, Train Loss: 0.6766, Test Loss: 0.7128\n",
      "Epoch 25/200, Train Loss: 0.6770, Test Loss: 0.6981\n",
      "Epoch 30/200, Train Loss: 0.6614, Test Loss: 0.7480\n",
      "Epoch 35/200, Train Loss: 0.6421, Test Loss: 0.8648\n",
      "Epoch 40/200, Train Loss: 0.6394, Test Loss: 0.9650\n",
      "Epoch 45/200, Train Loss: 0.6012, Test Loss: 0.9777\n",
      "Epoch 50/200, Train Loss: 0.5650, Test Loss: 1.0423\n",
      "Epoch 55/200, Train Loss: 0.5272, Test Loss: 1.0987\n",
      "Epoch 60/200, Train Loss: 0.4802, Test Loss: 1.0847\n",
      "Epoch 65/200, Train Loss: 0.5595, Test Loss: 1.1534\n",
      "Epoch 70/200, Train Loss: 0.4788, Test Loss: 0.9720\n",
      "Epoch 75/200, Train Loss: 0.3892, Test Loss: 1.3587\n",
      "Epoch 80/200, Train Loss: 0.3374, Test Loss: 1.3208\n",
      "Epoch 85/200, Train Loss: 0.2650, Test Loss: 1.4930\n",
      "Epoch 90/200, Train Loss: 0.2127, Test Loss: 1.7715\n",
      "Epoch 95/200, Train Loss: 0.1192, Test Loss: 1.9600\n",
      "Epoch 100/200, Train Loss: 0.4939, Test Loss: 2.1717\n",
      "Epoch 105/200, Train Loss: 0.2101, Test Loss: 2.0570\n",
      "Epoch 110/200, Train Loss: 0.1190, Test Loss: 2.1856\n",
      "Epoch 115/200, Train Loss: 0.0715, Test Loss: 2.3731\n",
      "Epoch 120/200, Train Loss: 0.0409, Test Loss: 2.3646\n",
      "Epoch 125/200, Train Loss: 0.0249, Test Loss: 2.4464\n",
      "Epoch 130/200, Train Loss: 0.0150, Test Loss: 2.6443\n",
      "Epoch 135/200, Train Loss: 0.0103, Test Loss: 2.7510\n",
      "Epoch 140/200, Train Loss: 0.0074, Test Loss: 2.8000\n",
      "Epoch 145/200, Train Loss: 0.0058, Test Loss: 2.8477\n",
      "Epoch 150/200, Train Loss: 0.0046, Test Loss: 2.8812\n",
      "Epoch 155/200, Train Loss: 0.0038, Test Loss: 2.9186\n",
      "Epoch 160/200, Train Loss: 0.0033, Test Loss: 2.9534\n",
      "Epoch 165/200, Train Loss: 0.0029, Test Loss: 2.9792\n",
      "Epoch 170/200, Train Loss: 0.0026, Test Loss: 3.0038\n",
      "Epoch 175/200, Train Loss: 0.0024, Test Loss: 3.0309\n",
      "Epoch 180/200, Train Loss: 0.0022, Test Loss: 3.0578\n",
      "Epoch 185/200, Train Loss: 0.0020, Test Loss: 3.0835\n",
      "Epoch 190/200, Train Loss: 0.0019, Test Loss: 3.1085\n",
      "Epoch 195/200, Train Loss: 0.0018, Test Loss: 3.1318\n",
      "Epoch 200/200, Train Loss: 0.0017, Test Loss: 3.1522\n"
     ]
    }
   ],
   "source": [
    "train_losses, test_losses = full_gd(model, criteria, optimizer, x_train, y_train, x_test, y_test)"
   ]
  },
  {
   "cell_type": "code",
   "execution_count": 25,
   "metadata": {},
   "outputs": [
    {
     "data": {
      "image/png": "[encoded data removed]",
      "text/plain": [
       "<Figure size 640x480 with 1 Axes>"
      ]
     },
     "metadata": {},
     "output_type": "display_data"
    }
   ],
   "source": [
    "plt.plot(train_losses, label='train loss')\n",
    "plt.plot(test_losses, label='test loss')\n",
    "plt.legend()\n",
    "plt.show()"
   ]
  },
  {
   "cell_type": "code",
   "execution_count": 26,
   "metadata": {},
   "outputs": [
    {
     "name": "stdout",
     "output_type": "stream",
     "text": [
      "Train acc: 1.0000, Test acc: 0.5073\n"
     ]
    }
   ],
   "source": [
    "with torch.no_grad():\n",
    "    p_train = model(x_train)\n",
    "    p_train = (p_train.cpu().numpy() > 0)\n",
    "    train_acc = np.mean(y_train.cpu().numpy() == p_train)\n",
    "    \n",
    "    p_test = model(x_test)\n",
    "    p_test = (p_test.cpu().numpy() > 0)\n",
    "    test_acc = np.mean(y_test.cpu().numpy() == p_test)\n",
    "    \n",
    "print(f'Train acc: {train_acc:.4f}, Test acc: {test_acc:.4f}')"
   ]
  },
  {
   "cell_type": "code",
   "execution_count": null,
   "metadata": {},
   "outputs": [],
   "source": []
  }
 ],
 "metadata": {
  "kernelspec": {
   "display_name": "cloudspace",
   "language": "python",
   "name": "python3"
  },
  "language_info": {
   "codemirror_mode": {
    "name": "ipython",
    "version": 3
   },
   "file_extension": ".py",
   "mimetype": "text/x-python",
   "name": "python",
   "nbconvert_exporter": "python",
   "pygments_lexer": "ipython3",
   "version": "3.10.10"
  }
 },
 "nbformat": 4,
 "nbformat_minor": 2
}
